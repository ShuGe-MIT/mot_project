{
 "cells": [
  {
   "cell_type": "code",
   "execution_count": 1,
   "id": "f439df1a-4687-40fa-99eb-7baa19737722",
   "metadata": {},
   "outputs": [],
   "source": [
    "import matplotlib.pyplot as plt\n",
    "import pickle as pkl\n",
    "import numpy as np"
   ]
  },
  {
   "cell_type": "code",
   "execution_count": null,
   "id": "3502919b-67d4-4cc3-86a7-4f41443fdb55",
   "metadata": {
    "tags": []
   },
   "outputs": [],
   "source": [
    "def load_res(file_name, s=-10,t=None):\n",
    "    memo = pkl.load(open('log/' + file_name + '.pkl', 'rb'))\n",
    "    for a, b, c in zip(memo[\"obj_list\"][s:t], memo[\"lb_list\"][s:t], memo[\"eps_list\"][s:t]):\n",
    "        print(\"obj:%.6f lb:%.6f eps:%.6f\"%(a, b, c))\n",
    "    plt.plot(np.array(range(len(memo[\"obj_list\"]))) * memo[\"iter_gap\"], memo[\"obj_list\"])\n",
    "    plt.title(\"Primal objective over iterations\")\n",
    "    # plt.yscale(\"symlog\")\n",
    "    plt.show()\n",
    "\n",
    "    plt.plot(np.array(range(len(memo[\"lb_list\"]))) * memo[\"iter_gap\"], memo[\"lb_list\"])\n",
    "    plt.title(\"Lower bound over iterations\")\n",
    "    # plt.yscale(\"symlog\")\n",
    "    plt.show()\n",
    "\n",
    "    plt.plot(np.array(range(len(memo[\"eps_list\"]))) * memo[\"iter_gap\"], memo[\"eps_list\"])\n",
    "    plt.title(\"Epsilon over iterations\")\n",
    "    # plt.yscale(\"symlog\")\n",
    "    plt.show()"
   ]
  },
  {
   "cell_type": "code",
   "execution_count": null,
   "id": "94890d2f-c2a5-4fd4-ace8-76459607c0e5",
   "metadata": {},
   "outputs": [],
   "source": [
    "load_res(\"{name of the file you want to visualize in /log folder}\")"
   ]
  }
 ],
 "metadata": {
  "kernelspec": {
   "display_name": "Python 3 (ipykernel)",
   "language": "python",
   "name": "python3"
  },
  "language_info": {
   "codemirror_mode": {
    "name": "ipython",
    "version": 3
   },
   "file_extension": ".py",
   "mimetype": "text/x-python",
   "name": "python",
   "nbconvert_exporter": "python",
   "pygments_lexer": "ipython3",
   "version": "3.9.16"
  }
 },
 "nbformat": 4,
 "nbformat_minor": 5
}
