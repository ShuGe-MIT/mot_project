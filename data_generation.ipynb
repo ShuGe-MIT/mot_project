{
 "cells": [
  {
   "cell_type": "code",
   "execution_count": 2,
   "id": "b746dda3-1031-456c-8333-be4b31bb12b8",
   "metadata": {},
   "outputs": [],
   "source": [
    "import numpy as np\n",
    "import pandas as pd\n",
    "from itertools import product\n",
    "from functools import reduce\n",
    "from math import log, sqrt\n",
    "import pickle"
   ]
  },
  {
   "cell_type": "markdown",
   "id": "c5237464-05b2-4f5b-9585-005b8f2446ec",
   "metadata": {},
   "source": [
    "### Data for 5.1"
   ]
  },
  {
   "cell_type": "code",
   "execution_count": 2,
   "id": "48a64fd9-5e54-460a-acf3-d383f1c2ca89",
   "metadata": {},
   "outputs": [],
   "source": [
    "file_name = 'Original Epitaxial Layer Growth long V2.csv'\n",
    "value_col = 'value' # change this to the column name of the value for the first dimension\n",
    "margin_col = ['V1', 'V2'] # change this to the list of columns to be used as margins\n",
    "data = pd.read_csv('data/' + file_name).dropna(subset=[value_col]).drop(columns = [\"Unnamed: 0\"])\n",
    "value = data.groupby(margin_col)[value_col].apply(list)\n",
    "tmp = value.values"
   ]
  },
  {
   "cell_type": "code",
   "execution_count": 7,
   "id": "5f882e02-8e99-4bf7-b143-001bca9eeed1",
   "metadata": {},
   "outputs": [],
   "source": [
    "with open('data/multifactorEpitaxialgrowth.pkl', 'wb') as f:\n",
    "    pickle.dump([[np.array(tmp[0]), \n",
    "                  -np.array(tmp[1]), \n",
    "                  -np.array(tmp[2]),\n",
    "                  np.array(tmp[3])]], f)"
   ]
  },
  {
   "cell_type": "code",
   "execution_count": 4,
   "id": "7d3407fb-0df9-4cc6-bed8-3d2380400af6",
   "metadata": {},
   "outputs": [],
   "source": [
    "with open('data/finitesampleEpitaxialgrowth.pkl', 'wb') as f:\n",
    "    pickle.dump([[-np.array(tmp[1]), \n",
    "                  0.5 * np.array(tmp[2]),\n",
    "                  0.5 * np.array(tmp[3])]], f)"
   ]
  },
  {
   "cell_type": "code",
   "execution_count": 39,
   "id": "04c29262-44eb-4ec3-bfe1-3ab569ac6cd2",
   "metadata": {},
   "outputs": [],
   "source": [
    "file_name = 'weight loss processed.csv'\n",
    "value_col = 'weight.loss' # change this to the column name of the value for the first dimension\n",
    "margin_col = ['treatment'] # change this to the list of columns to be used as margins\n",
    "data = pd.read_csv('data/' + file_name).dropna(subset=[value_col]).drop(columns = [\"Unnamed: 0\"])\n",
    "value = data.groupby(margin_col)[value_col].apply(list)\n",
    "tmp = value.values"
   ]
  },
  {
   "cell_type": "code",
   "execution_count": 40,
   "id": "a52abca1-287f-46b4-b6d3-af6fb8954787",
   "metadata": {},
   "outputs": [],
   "source": [
    "with open('data/multifactorWeightloss.pkl', 'wb') as f:\n",
    "    pickle.dump([[np.array(tmp[0]), \n",
    "                  -np.array(tmp[1]), \n",
    "                  -np.array(tmp[2]),\n",
    "                  np.array(tmp[3])]], f)"
   ]
  },
  {
   "cell_type": "code",
   "execution_count": 8,
   "id": "f895ef35-504d-4561-a3c8-fae8c703e871",
   "metadata": {},
   "outputs": [],
   "source": [
    "file_name = 'educationCovariance.csv'\n",
    "value_col = 'GPA_year1' # change this to the column name of the value for the first dimension\n",
    "margin_col = ['sfp', 'ssp'] # change this to the list of columns to be used as margins\n",
    "data = pd.read_csv('data/' + file_name).dropna(subset=[value_col]).drop(columns = [\"Unnamed: 0\"])\n",
    "value = data.groupby(margin_col)[value_col].apply(list)\n",
    "tmp = value.values"
   ]
  },
  {
   "cell_type": "code",
   "execution_count": 42,
   "id": "e46c1fb1-5dfb-409d-9f2e-38e64c44e2bc",
   "metadata": {},
   "outputs": [],
   "source": [
    "with open('data/multifactorEducation_year1.pkl', 'wb') as f:\n",
    "    pickle.dump([[np.array(tmp[0]), \n",
    "                  -np.array(tmp[1]), \n",
    "                  -np.array(tmp[2]),\n",
    "                  np.array(tmp[3])]], f)"
   ]
  },
  {
   "cell_type": "code",
   "execution_count": 9,
   "id": "49056a52-15b0-41d6-8d9d-fe5af446c583",
   "metadata": {},
   "outputs": [],
   "source": [
    "with open('data/multifactorVarEducation_year1.pkl', 'wb') as f:\n",
    "    pickle.dump([[np.array(tmp[0]), \n",
    "                  -np.array(tmp[1]) / 2, \n",
    "                  -np.array(tmp[2]) / 2]], f)"
   ]
  },
  {
   "cell_type": "code",
   "execution_count": 10,
   "id": "0f7261b5-dae8-4b0c-8049-e390513f072a",
   "metadata": {},
   "outputs": [],
   "source": [
    "file_name = 'educationCovariance.csv'\n",
    "value_col = 'GPA_year2' # change this to the column name of the value for the first dimension\n",
    "margin_col = ['sfp', 'ssp'] # change this to the list of columns to be used as margins\n",
    "data = pd.read_csv('data/' + file_name).dropna(subset=[value_col]).drop(columns = [\"Unnamed: 0\"])\n",
    "value = data.groupby(margin_col)[value_col].apply(list)\n",
    "tmp = value.values"
   ]
  },
  {
   "cell_type": "code",
   "execution_count": 20,
   "id": "9c13f8c7-58e0-4db8-a96c-c8aba511ce7a",
   "metadata": {},
   "outputs": [],
   "source": [
    "with open('data/multifactorEducation_year2.pkl', 'wb') as f:\n",
    "    pickle.dump([[np.array(tmp[0]), \n",
    "                  -np.array(tmp[1]), \n",
    "                  -np.array(tmp[2]),\n",
    "                  np.array(tmp[3])]], f)"
   ]
  },
  {
   "cell_type": "code",
   "execution_count": 11,
   "id": "a39e5ead-33f6-4f24-a03a-e3f7948650f8",
   "metadata": {},
   "outputs": [],
   "source": [
    "with open('data/multifactorVarEducation_year2.pkl', 'wb') as f:\n",
    "    pickle.dump([[np.array(tmp[0]), \n",
    "                  -np.array(tmp[1]) / 2, \n",
    "                  -np.array(tmp[2]) / 2]], f)"
   ]
  },
  {
   "cell_type": "code",
   "execution_count": 24,
   "id": "5dda55d8-9e1c-479c-ae30-e057d2aabcf7",
   "metadata": {},
   "outputs": [],
   "source": [
    "file_name = 'sample-covariate-simulate.csv'\n",
    "value_col = 'helpfulness' # change this to the column name of the value for the first dimension\n",
    "margin_col = ['MR', 'experience.variation'] # change this to the list of columns to be used as margins\n",
    "data = pd.read_csv('data/' + file_name).dropna(subset=[value_col]).drop(columns = [\"Unnamed: 0\"])\n",
    "value = data.groupby(margin_col)[value_col].apply(list)\n",
    "tmp = value.values"
   ]
  },
  {
   "cell_type": "code",
   "execution_count": 27,
   "id": "439ecf29-3d0a-48a4-9ca6-42958316ef80",
   "metadata": {},
   "outputs": [],
   "source": [
    "with open('data/multifactorHelpfulness.pkl', 'wb') as f:\n",
    "    pickle.dump([[np.array(tmp[0]), \n",
    "                  -np.array(tmp[1]), \n",
    "                  -np.array(tmp[2]),\n",
    "                  np.array(tmp[3])]], f)"
   ]
  },
  {
   "cell_type": "markdown",
   "id": "49ca7f6e-4ce4-49c0-8974-5da425057cf9",
   "metadata": {},
   "source": [
    "### Data for 5.2"
   ]
  },
  {
   "cell_type": "code",
   "execution_count": 3,
   "id": "f8a47f0c-62df-4555-8bc7-1da53dc71470",
   "metadata": {},
   "outputs": [],
   "source": [
    "# import csv file\n",
    "file_name = 'educationCovariance.csv' # change this to the name of the file\n",
    "value_col = 'GPA_year1' # change this to the column name of the value for the first dimension\n",
    "value_col1 = 'GPA_year2' # change this to the column name of the value for the second dimension\n",
    "margin_col = ['sfp', 'ssp'] # change this to the list of columns to be used as margins\n",
    "\n",
    "data = pd.read_csv('data/' + file_name).dropna(subset=[value_col, value_col1]).drop(columns = [\"Unnamed: 0\"])\n",
    "\n",
    "value = data.groupby(margin_col)[value_col].apply(list)\n",
    "value1 = data.groupby(margin_col)[value_col1].apply(list)\n",
    "tmp = value.values\n",
    "tmp1 = value1.values"
   ]
  },
  {
   "cell_type": "code",
   "execution_count": 44,
   "id": "c370643e-ec29-4421-aaa6-18bca0ee9e1f",
   "metadata": {},
   "outputs": [],
   "source": [
    "import pickle\n",
    "with open('data/multidimEducationCovariance.pkl', 'wb') as f:\n",
    "    pickle.dump([[np.array(tmp[0])/2, \n",
    "                  np.array(tmp[1])/2, \n",
    "                  -np.array(tmp[2])], \n",
    "                 [np.array(tmp1[0])/2, \n",
    "                  np.array(tmp1[1])/2, \n",
    "                  -np.array(tmp1[2])]], f)"
   ]
  },
  {
   "cell_type": "code",
   "execution_count": 4,
   "id": "dcadaf2d-a8df-4677-8eda-24b7e12c4da4",
   "metadata": {},
   "outputs": [],
   "source": [
    "import pickle\n",
    "with open('data/multidimCovEducationCovariance.pkl', 'wb') as f:\n",
    "    pickle.dump([[np.array(tmp[0])/2, \n",
    "                  np.array(tmp[1])/2, \n",
    "                  -np.array(tmp[2])], \n",
    "                 [-np.array(tmp1[0])/2, \n",
    "                  -np.array(tmp1[1])/2, \n",
    "                  np.array(tmp1[2])]], f)"
   ]
  },
  {
   "cell_type": "code",
   "execution_count": 4,
   "id": "642c1d54-9d7c-4d57-9017-b24c0aac6419",
   "metadata": {},
   "outputs": [],
   "source": [
    "# import csv file\n",
    "file_name = 'sample-covariate-simulate.csv' # change this to the name of the file\n",
    "value_col = 'helpfulness' # change this to the column name of the value for the first dimension\n",
    "value_col1 = 'altruism' # change this to the column name of the value for the second dimension\n",
    "margin_col = ['MR', 'experience.variation'] # change this to the list of columns to be used as margins\n",
    "\n",
    "data = pd.read_csv('data/' + file_name).dropna(subset=[value_col, value_col1]).drop(columns = [\"Unnamed: 0\"])\n",
    "\n",
    "value = data.groupby(margin_col)[value_col].apply(list)\n",
    "value1 = data.groupby(margin_col)[value_col1].apply(list)\n",
    "tmp = value.values\n",
    "tmp1 = value1.values"
   ]
  },
  {
   "cell_type": "code",
   "execution_count": 46,
   "id": "50db61bf-30b6-467b-b127-25cb9494fcb3",
   "metadata": {},
   "outputs": [],
   "source": [
    "import pickle\n",
    "with open('data/multidimHelpfulness.pkl', 'wb') as f:\n",
    "    pickle.dump([[np.array(tmp[0])/2, \n",
    "                  np.array(tmp[1])/2, \n",
    "                  -np.array(tmp[2])], \n",
    "                 [np.array(tmp1[0])/2, \n",
    "                  np.array(tmp1[1])/2, \n",
    "                  -np.array(tmp1[2])]], f)"
   ]
  },
  {
   "cell_type": "code",
   "execution_count": 5,
   "id": "bddc4372-2dfd-4c38-afa7-00f1ba523385",
   "metadata": {},
   "outputs": [],
   "source": [
    "import pickle\n",
    "with open('data/multidimCovHelpfulness.pkl', 'wb') as f:\n",
    "    pickle.dump([[np.array(tmp[0])/2, \n",
    "                  np.array(tmp[1])/2, \n",
    "                  -np.array(tmp[2])], \n",
    "                 [-np.array(tmp1[0])/2, \n",
    "                  -np.array(tmp1[1])/2, \n",
    "                  np.array(tmp1[2])]], f)"
   ]
  }
 ],
 "metadata": {
  "kernelspec": {
   "display_name": "MOT",
   "language": "python",
   "name": "mot"
  },
  "language_info": {
   "codemirror_mode": {
    "name": "ipython",
    "version": 3
   },
   "file_extension": ".py",
   "mimetype": "text/x-python",
   "name": "python",
   "nbconvert_exporter": "python",
   "pygments_lexer": "ipython3",
   "version": "3.12.3"
  }
 },
 "nbformat": 4,
 "nbformat_minor": 5
}
