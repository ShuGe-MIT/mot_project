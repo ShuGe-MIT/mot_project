{
 "cells": [
  {
   "cell_type": "code",
   "execution_count": 2,
   "id": "b746dda3-1031-456c-8333-be4b31bb12b8",
   "metadata": {},
   "outputs": [],
   "source": [
    "import numpy as np\n",
    "import pandas as pd\n",
    "from itertools import product\n",
    "from functools import reduce\n",
    "from math import log, sqrt\n"
   ]
  },
  {
   "cell_type": "markdown",
   "id": "c5237464-05b2-4f5b-9585-005b8f2446ec",
   "metadata": {},
   "source": [
    "### Data for 5.1"
   ]
  },
  {
   "cell_type": "code",
   "execution_count": 16,
   "id": "48a64fd9-5e54-460a-acf3-d383f1c2ca89",
   "metadata": {},
   "outputs": [],
   "source": [
    "file_name = 'Original Epitaxial Layer Growth long V2.csv'\n",
    "value_col = 'value' # change this to the column name of the value for the first dimension\n",
    "margin_col = ['V1', 'V2'] # change this to the list of columns to be used as margins\n",
    "\n",
    "data = pd.read_csv('data/' + file_name).dropna(subset=[value_col]).drop(columns = [\"Unnamed: 0\"])\n",
    "\n",
    "value = data.groupby(margin_col)[value_col].apply(list)"
   ]
  },
  {
   "cell_type": "code",
   "execution_count": 18,
   "id": "04c29262-44eb-4ec3-bfe1-3ab569ac6cd2",
   "metadata": {},
   "outputs": [],
   "source": [
    "import pickle\n",
    "with open('data/Epitaxialgrowth.pkl', 'wb') as f:\n",
    "    pickle.dump([[np.array(tmp[0]), \n",
    "                  -np.array(tmp[1]), \n",
    "                  -np.array(tmp[2]),\n",
    "                  np.array(tmp[3])]], f)"
   ]
  },
  {
   "cell_type": "markdown",
   "id": "49ca7f6e-4ce4-49c0-8974-5da425057cf9",
   "metadata": {},
   "source": [
    "### Data for 5.2"
   ]
  },
  {
   "cell_type": "code",
   "execution_count": null,
   "id": "f8a47f0c-62df-4555-8bc7-1da53dc71470",
   "metadata": {},
   "outputs": [],
   "source": [
    "# import csv file\n",
    "file_name = 'educationCovariance.csv' # change this to the name of the file\n",
    "value_col = 'GPA_year1' # change this to the column name of the value for the first dimension\n",
    "value_col1 = 'GPA_year2' # change this to the column name of the value for the second dimension\n",
    "margin_col = ['sfp', 'ssp'] # change this to the list of columns to be used as margins\n",
    "\n",
    "data = pd.read_csv('data/' + file_name).dropna(subset=[value_col, value_col1]).drop(columns = [\"Unnamed: 0\"])\n",
    "\n",
    "value = data.groupby(margin_col)[value_col].apply(list)\n",
    "value1 = data.groupby(margin_col)[value_col1].apply(list)"
   ]
  },
  {
   "cell_type": "code",
   "execution_count": 4,
   "id": "c370643e-ec29-4421-aaa6-18bca0ee9e1f",
   "metadata": {},
   "outputs": [],
   "source": [
    "tmp = value.values\n",
    "tmp1 = value1.values"
   ]
  },
  {
   "cell_type": "code",
   "execution_count": 22,
   "id": "42128937-02a3-4258-8603-430c2f531457",
   "metadata": {},
   "outputs": [],
   "source": [
    "def transform_data(value):\n",
    "    tmp = [np.array(l).astype(dtype) for l in value.values]\n",
    "    tmp = [l - l.mean() for l in tmp]\n",
    "    tmp = [tmp[0]/2, tmp[1]/2, -tmp[2]]\n",
    "    return tmp"
   ]
  },
  {
   "cell_type": "code",
   "execution_count": 8,
   "id": "e9e3d525-a2ab-4476-a048-bfc8b5df4c95",
   "metadata": {},
   "outputs": [],
   "source": [
    "import pickle\n",
    "with open('data/educationCovariance.pkl', 'wb') as f:\n",
    "    pickle.dump([[np.array(tmp[0])/2, \n",
    "                  np.array(tmp[1])/2, \n",
    "                  -np.array(tmp[2])], \n",
    "                 [np.array(tmp1[0])/2, \n",
    "                  np.array(tmp1[1])/2, \n",
    "                  -np.array(tmp1[2])]], f)"
   ]
  },
  {
   "cell_type": "code",
   "execution_count": null,
   "id": "419a37a3-e4e3-4377-9bf8-a2f51574f090",
   "metadata": {},
   "outputs": [],
   "source": []
  }
 ],
 "metadata": {
  "kernelspec": {
   "display_name": "MOT",
   "language": "python",
   "name": "mot"
  },
  "language_info": {
   "codemirror_mode": {
    "name": "ipython",
    "version": 3
   },
   "file_extension": ".py",
   "mimetype": "text/x-python",
   "name": "python",
   "nbconvert_exporter": "python",
   "pygments_lexer": "ipython3",
   "version": "3.12.3"
  }
 },
 "nbformat": 4,
 "nbformat_minor": 5
}
