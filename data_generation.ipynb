{
 "cells": [
  {
   "cell_type": "code",
   "execution_count": 2,
   "id": "b746dda3-1031-456c-8333-be4b31bb12b8",
   "metadata": {},
   "outputs": [],
   "source": [
    "import numpy as np\n",
    "import pandas as pd\n",
    "from itertools import product\n",
    "from functools import reduce\n",
    "from math import log, sqrt\n",
    "import pickle"
   ]
  },
  {
   "cell_type": "markdown",
   "id": "c5237464-05b2-4f5b-9585-005b8f2446ec",
   "metadata": {},
   "source": [
    "### Data for 5.1"
   ]
  },
  {
   "cell_type": "code",
   "execution_count": 2,
   "id": "48a64fd9-5e54-460a-acf3-d383f1c2ca89",
   "metadata": {},
   "outputs": [],
   "source": [
    "file_name = 'Original Epitaxial Layer Growth long V2.csv'\n",
    "value_col = 'value' # change this to the column name of the value for the first dimension\n",
    "margin_col = ['V1', 'V2'] # change this to the list of columns to be used as margins\n",
    "data = pd.read_csv('data/' + file_name).dropna(subset=[value_col]).drop(columns = [\"Unnamed: 0\"])\n",
    "value = data.groupby(margin_col)[value_col].apply(list)\n",
    "tmp = value.values"
   ]
  },
  {
   "cell_type": "code",
   "execution_count": 3,
   "id": "bc207ac6-d0a6-420d-ba8f-feb5f8c63b3a",
   "metadata": {},
   "outputs": [
    {
     "data": {
      "text/plain": [
       "V1  V2\n",
       "+   +     [-0.0686666666666671, 0.195333333333334, 0.321...\n",
       "    -     [-0.320666666666666, -0.732666666666667, -0.23...\n",
       "-   +     [0.0613333333333337, 0.0533333333333328, 0.109...\n",
       "    -     [-0.0746666666666673, -0.0586666666666673, -0....\n",
       "Name: value, dtype: object"
      ]
     },
     "execution_count": 3,
     "metadata": {},
     "output_type": "execute_result"
    }
   ],
   "source": [
    "value"
   ]
  },
  {
   "cell_type": "code",
   "execution_count": 4,
   "id": "b351083a-9dab-4004-8720-2009ea3ec88f",
   "metadata": {},
   "outputs": [
    {
     "data": {
      "text/plain": [
       "[6, 6, 6, 6]"
      ]
     },
     "execution_count": 4,
     "metadata": {},
     "output_type": "execute_result"
    }
   ],
   "source": [
    "[len(l) for l in tmp]"
   ]
  },
  {
   "cell_type": "code",
   "execution_count": 7,
   "id": "5f882e02-8e99-4bf7-b143-001bca9eeed1",
   "metadata": {},
   "outputs": [],
   "source": [
    "with open('data/multifactorEpitaxialgrowth.pkl', 'wb') as f:\n",
    "    pickle.dump([[np.array(tmp[0]), \n",
    "                  -np.array(tmp[1]), \n",
    "                  -np.array(tmp[2]),\n",
    "                  np.array(tmp[3])]], f)"
   ]
  },
  {
   "cell_type": "code",
   "execution_count": 4,
   "id": "7d3407fb-0df9-4cc6-bed8-3d2380400af6",
   "metadata": {},
   "outputs": [],
   "source": [
    "with open('data/finitesampleEpitaxialgrowth.pkl', 'wb') as f:\n",
    "    pickle.dump([[-np.array(tmp[1]), \n",
    "                  0.5 * np.array(tmp[2]),\n",
    "                  0.5 * np.array(tmp[3])]], f)"
   ]
  },
  {
   "cell_type": "code",
   "execution_count": 39,
   "id": "04c29262-44eb-4ec3-bfe1-3ab569ac6cd2",
   "metadata": {},
   "outputs": [],
   "source": [
    "file_name = 'weight loss processed.csv'\n",
    "value_col = 'weight.loss' # change this to the column name of the value for the first dimension\n",
    "margin_col = ['treatment'] # change this to the list of columns to be used as margins\n",
    "data = pd.read_csv('data/' + file_name).dropna(subset=[value_col]).drop(columns = [\"Unnamed: 0\"])\n",
    "value = data.groupby(margin_col)[value_col].apply(list)\n",
    "tmp = value.values"
   ]
  },
  {
   "cell_type": "code",
   "execution_count": 40,
   "id": "a52abca1-287f-46b4-b6d3-af6fb8954787",
   "metadata": {},
   "outputs": [],
   "source": [
    "with open('data/multifactorWeightloss.pkl', 'wb') as f:\n",
    "    pickle.dump([[np.array(tmp[0]), \n",
    "                  -np.array(tmp[1]), \n",
    "                  -np.array(tmp[2]),\n",
    "                  np.array(tmp[3])]], f)"
   ]
  },
  {
   "cell_type": "code",
   "execution_count": 8,
   "id": "f895ef35-504d-4561-a3c8-fae8c703e871",
   "metadata": {},
   "outputs": [],
   "source": [
    "file_name = 'educationCovariance.csv'\n",
    "value_col = 'GPA_year1' # change this to the column name of the value for the first dimension\n",
    "margin_col = ['sfp', 'ssp'] # change this to the list of columns to be used as margins\n",
    "data = pd.read_csv('data/' + file_name).dropna(subset=[value_col]).drop(columns = [\"Unnamed: 0\"])\n",
    "value = data.groupby(margin_col)[value_col].apply(list)\n",
    "tmp = value.values"
   ]
  },
  {
   "cell_type": "code",
   "execution_count": 42,
   "id": "e46c1fb1-5dfb-409d-9f2e-38e64c44e2bc",
   "metadata": {},
   "outputs": [],
   "source": [
    "with open('data/multifactorEducation_year1.pkl', 'wb') as f:\n",
    "    pickle.dump([[np.array(tmp[0]), \n",
    "                  -np.array(tmp[1]), \n",
    "                  -np.array(tmp[2]),\n",
    "                  np.array(tmp[3])]], f)"
   ]
  },
  {
   "cell_type": "code",
   "execution_count": 9,
   "id": "49056a52-15b0-41d6-8d9d-fe5af446c583",
   "metadata": {},
   "outputs": [],
   "source": [
    "with open('data/multifactorVarEducation_year1.pkl', 'wb') as f:\n",
    "    pickle.dump([[np.array(tmp[0]), \n",
    "                  -np.array(tmp[1]) / 2, \n",
    "                  -np.array(tmp[2]) / 2]], f)"
   ]
  },
  {
   "cell_type": "code",
   "execution_count": 10,
   "id": "0f7261b5-dae8-4b0c-8049-e390513f072a",
   "metadata": {},
   "outputs": [],
   "source": [
    "file_name = 'educationCovariance.csv'\n",
    "value_col = 'GPA_year2' # change this to the column name of the value for the first dimension\n",
    "margin_col = ['sfp', 'ssp'] # change this to the list of columns to be used as margins\n",
    "data = pd.read_csv('data/' + file_name).dropna(subset=[value_col]).drop(columns = [\"Unnamed: 0\"])\n",
    "value = data.groupby(margin_col)[value_col].apply(list)\n",
    "tmp = value.values"
   ]
  },
  {
   "cell_type": "code",
   "execution_count": 20,
   "id": "9c13f8c7-58e0-4db8-a96c-c8aba511ce7a",
   "metadata": {},
   "outputs": [],
   "source": [
    "with open('data/multifactorEducation_year2.pkl', 'wb') as f:\n",
    "    pickle.dump([[np.array(tmp[0]), \n",
    "                  -np.array(tmp[1]), \n",
    "                  -np.array(tmp[2]),\n",
    "                  np.array(tmp[3])]], f)"
   ]
  },
  {
   "cell_type": "code",
   "execution_count": 11,
   "id": "a39e5ead-33f6-4f24-a03a-e3f7948650f8",
   "metadata": {},
   "outputs": [],
   "source": [
    "with open('data/multifactorVarEducation_year2.pkl', 'wb') as f:\n",
    "    pickle.dump([[np.array(tmp[0]), \n",
    "                  -np.array(tmp[1]) / 2, \n",
    "                  -np.array(tmp[2]) / 2]], f)"
   ]
  },
  {
   "cell_type": "code",
   "execution_count": 24,
   "id": "5dda55d8-9e1c-479c-ae30-e057d2aabcf7",
   "metadata": {},
   "outputs": [],
   "source": [
    "file_name = 'sample-covariate-simulate.csv'\n",
    "value_col = 'helpfulness' # change this to the column name of the value for the first dimension\n",
    "margin_col = ['MR', 'experience.variation'] # change this to the list of columns to be used as margins\n",
    "data = pd.read_csv('data/' + file_name).dropna(subset=[value_col]).drop(columns = [\"Unnamed: 0\"])\n",
    "value = data.groupby(margin_col)[value_col].apply(list)\n",
    "tmp = value.values"
   ]
  },
  {
   "cell_type": "code",
   "execution_count": 27,
   "id": "439ecf29-3d0a-48a4-9ca6-42958316ef80",
   "metadata": {},
   "outputs": [],
   "source": [
    "with open('data/multifactorHelpfulness.pkl', 'wb') as f:\n",
    "    pickle.dump([[np.array(tmp[0]), \n",
    "                  -np.array(tmp[1]), \n",
    "                  -np.array(tmp[2]),\n",
    "                  np.array(tmp[3])]], f)"
   ]
  },
  {
   "cell_type": "markdown",
   "id": "49ca7f6e-4ce4-49c0-8974-5da425057cf9",
   "metadata": {},
   "source": [
    "### Data for 5.2"
   ]
  },
  {
   "cell_type": "code",
   "execution_count": 3,
   "id": "f8a47f0c-62df-4555-8bc7-1da53dc71470",
   "metadata": {},
   "outputs": [],
   "source": [
    "# import csv file\n",
    "file_name = 'educationCovariance.csv' # change this to the name of the file\n",
    "value_col = 'GPA_year1' # change this to the column name of the value for the first dimension\n",
    "value_col1 = 'GPA_year2' # change this to the column name of the value for the second dimension\n",
    "margin_col = ['sfp', 'ssp'] # change this to the list of columns to be used as margins\n",
    "\n",
    "data = pd.read_csv('data/' + file_name).dropna(subset=[value_col, value_col1]).drop(columns = [\"Unnamed: 0\"])\n",
    "\n",
    "value = data.groupby(margin_col)[value_col].apply(list)\n",
    "value1 = data.groupby(margin_col)[value_col1].apply(list)\n",
    "tmp = value.values\n",
    "tmp1 = value1.values"
   ]
  },
  {
   "cell_type": "code",
   "execution_count": 7,
   "id": "bc2fd72c-808e-45b8-98f8-bf6e109453c0",
   "metadata": {},
   "outputs": [
    {
     "data": {
      "text/plain": [
       "[0.7339334543000446, 0.7744028514970132, 0.7266741047791206, 0.590794117340575]"
      ]
     },
     "execution_count": 7,
     "metadata": {},
     "output_type": "execute_result"
    }
   ],
   "source": [
    "[np.std(l) for l in tmp]"
   ]
  },
  {
   "cell_type": "code",
   "execution_count": 44,
   "id": "c370643e-ec29-4421-aaa6-18bca0ee9e1f",
   "metadata": {},
   "outputs": [],
   "source": [
    "import pickle\n",
    "with open('data/multidimEducationCovariance.pkl', 'wb') as f:\n",
    "    pickle.dump([[np.array(tmp[0])/2, \n",
    "                  np.array(tmp[1])/2, \n",
    "                  -np.array(tmp[2])], \n",
    "                 [np.array(tmp1[0])/2, \n",
    "                  np.array(tmp1[1])/2, \n",
    "                  -np.array(tmp1[2])]], f)"
   ]
  },
  {
   "cell_type": "code",
   "execution_count": 4,
   "id": "dcadaf2d-a8df-4677-8eda-24b7e12c4da4",
   "metadata": {},
   "outputs": [],
   "source": [
    "import pickle\n",
    "with open('data/multidimCovEducationCovariance.pkl', 'wb') as f:\n",
    "    pickle.dump([[np.array(tmp[0])/2, \n",
    "                  np.array(tmp[1])/2, \n",
    "                  -np.array(tmp[2])], \n",
    "                 [-np.array(tmp1[0])/2, \n",
    "                  -np.array(tmp1[1])/2, \n",
    "                  np.array(tmp1[2])]], f)"
   ]
  },
  {
   "cell_type": "code",
   "execution_count": 4,
   "id": "642c1d54-9d7c-4d57-9017-b24c0aac6419",
   "metadata": {},
   "outputs": [],
   "source": [
    "# import csv file\n",
    "file_name = 'sample-covariate-simulate.csv' # change this to the name of the file\n",
    "value_col = 'helpfulness' # change this to the column name of the value for the first dimension\n",
    "value_col1 = 'altruism' # change this to the column name of the value for the second dimension\n",
    "margin_col = ['MR', 'experience.variation'] # change this to the list of columns to be used as margins\n",
    "\n",
    "data = pd.read_csv('data/' + file_name).dropna(subset=[value_col, value_col1]).drop(columns = [\"Unnamed: 0\"])\n",
    "\n",
    "value = data.groupby(margin_col)[value_col].apply(list)\n",
    "value1 = data.groupby(margin_col)[value_col1].apply(list)\n",
    "tmp = value.values\n",
    "tmp1 = value1.values"
   ]
  },
  {
   "cell_type": "code",
   "execution_count": 46,
   "id": "50db61bf-30b6-467b-b127-25cb9494fcb3",
   "metadata": {},
   "outputs": [],
   "source": [
    "import pickle\n",
    "with open('data/multidimHelpfulness.pkl', 'wb') as f:\n",
    "    pickle.dump([[np.array(tmp[0])/2, \n",
    "                  np.array(tmp[1])/2, \n",
    "                  -np.array(tmp[2])], \n",
    "                 [np.array(tmp1[0])/2, \n",
    "                  np.array(tmp1[1])/2, \n",
    "                  -np.array(tmp1[2])]], f)"
   ]
  },
  {
   "cell_type": "code",
   "execution_count": 5,
   "id": "bddc4372-2dfd-4c38-afa7-00f1ba523385",
   "metadata": {},
   "outputs": [],
   "source": [
    "import pickle\n",
    "with open('data/multidimCovHelpfulness.pkl', 'wb') as f:\n",
    "    pickle.dump([[np.array(tmp[0])/2, \n",
    "                  np.array(tmp[1])/2, \n",
    "                  -np.array(tmp[2])], \n",
    "                 [-np.array(tmp1[0])/2, \n",
    "                  -np.array(tmp1[1])/2, \n",
    "                  np.array(tmp1[2])]], f)"
   ]
  },
  {
   "cell_type": "code",
   "execution_count": 8,
   "id": "1b9a38a4-50bf-4062-b7ad-805e6293adcb",
   "metadata": {},
   "outputs": [],
   "source": [
    "# import csv file\n",
    "import pickle\n",
    "from itertools import combinations\n",
    "\n",
    "file_name = 'educationCovarianceFull.csv' # change this to the name of the file\n",
    "margin_col = ['sfp', 'ssp'] # change this to the list of columns to be used as margins\n",
    "value_cols = ['GPA_year1', 'GPA_year2', 'grade_20059_fall', 'goodstanding_year1', 'goodstanding_year2']\n",
    "data = pd.read_csv('data/' + file_name).drop(columns = [\"Unnamed: 0\"])\n",
    "\n",
    "for value_col, value_col1 in combinations(value_cols, 2):\n",
    "    data_tmp = data.dropna(subset=[value_col, value_col1])\n",
    "    value = data_tmp.groupby(margin_col)[value_col].apply(list)\n",
    "    value1 = data_tmp.groupby(margin_col)[value_col1].apply(list)\n",
    "    tmp = value.values\n",
    "    tmp1 = value1.values\n",
    "    with open('data/multidimCovEducationCovariance-{}-{}.pkl'.format(value_col, value_col1), 'wb') as f:\n",
    "        pickle.dump([[np.array(tmp[0])/2, \n",
    "                  np.array(tmp[1])/2, \n",
    "                  -np.array(tmp[2])], \n",
    "                 [-np.array(tmp1[0])/2, \n",
    "                  -np.array(tmp1[1])/2, \n",
    "                  np.array(tmp1[2])]], f)\n",
    "    with open('data/multidimEducationCovariance-{}-{}.pkl'.format(value_col, value_col1), 'wb') as f:\n",
    "        pickle.dump([[np.array(tmp[0])/2, \n",
    "                  np.array(tmp[1])/2, \n",
    "                  -np.array(tmp[2])], \n",
    "                 [np.array(tmp1[0])/2, \n",
    "                  np.array(tmp1[1])/2, \n",
    "                  -np.array(tmp1[2])]], f)"
   ]
  },
  {
   "cell_type": "code",
   "execution_count": 14,
   "id": "3d48a0d7-bb21-49b8-9ca6-f49028889d3f",
   "metadata": {},
   "outputs": [
    {
     "name": "stdout",
     "output_type": "stream",
     "text": [
      "python MOT.py --start_epsilon=1 --target_epsilon=1e-3 --iter_gap=1 --epsilon_scale_num=0.99 --epsilon_scale_gap=5 --data_file=multidimCovEducationCovariance-GPA_year1-GPA_year2 --max_iter=5000 --cost_type=cov\n",
      "\n",
      "python MOT.py --start_epsilon=1 --target_epsilon=1e-3 --iter_gap=1 --epsilon_scale_num=0.99 --epsilon_scale_gap=5 --data_file=multidimCovEducationCovariance-GPA_year1-grade_20059_fall --max_iter=5000 --cost_type=cov\n",
      "\n",
      "python MOT.py --start_epsilon=1 --target_epsilon=1e-3 --iter_gap=1 --epsilon_scale_num=0.99 --epsilon_scale_gap=5 --data_file=multidimCovEducationCovariance-GPA_year1-goodstanding_year1 --max_iter=5000 --cost_type=cov\n",
      "\n",
      "python MOT.py --start_epsilon=1 --target_epsilon=1e-3 --iter_gap=1 --epsilon_scale_num=0.99 --epsilon_scale_gap=5 --data_file=multidimCovEducationCovariance-GPA_year1-goodstanding_year2 --max_iter=5000 --cost_type=cov\n",
      "\n",
      "python MOT.py --start_epsilon=1 --target_epsilon=1e-3 --iter_gap=1 --epsilon_scale_num=0.99 --epsilon_scale_gap=5 --data_file=multidimCovEducationCovariance-GPA_year2-grade_20059_fall --max_iter=5000 --cost_type=cov\n",
      "\n",
      "python MOT.py --start_epsilon=1 --target_epsilon=1e-3 --iter_gap=1 --epsilon_scale_num=0.99 --epsilon_scale_gap=5 --data_file=multidimCovEducationCovariance-GPA_year2-goodstanding_year1 --max_iter=5000 --cost_type=cov\n",
      "\n",
      "python MOT.py --start_epsilon=1 --target_epsilon=1e-3 --iter_gap=1 --epsilon_scale_num=0.99 --epsilon_scale_gap=5 --data_file=multidimCovEducationCovariance-GPA_year2-goodstanding_year2 --max_iter=5000 --cost_type=cov\n",
      "\n",
      "python MOT.py --start_epsilon=1 --target_epsilon=1e-3 --iter_gap=1 --epsilon_scale_num=0.99 --epsilon_scale_gap=5 --data_file=multidimCovEducationCovariance-grade_20059_fall-goodstanding_year1 --max_iter=5000 --cost_type=cov\n",
      "\n",
      "python MOT.py --start_epsilon=1 --target_epsilon=1e-3 --iter_gap=1 --epsilon_scale_num=0.99 --epsilon_scale_gap=5 --data_file=multidimCovEducationCovariance-grade_20059_fall-goodstanding_year2 --max_iter=5000 --cost_type=cov\n",
      "\n",
      "python MOT.py --start_epsilon=1 --target_epsilon=1e-3 --iter_gap=1 --epsilon_scale_num=0.99 --epsilon_scale_gap=5 --data_file=multidimCovEducationCovariance-goodstanding_year1-goodstanding_year2 --max_iter=5000 --cost_type=cov\n",
      "\n"
     ]
    }
   ],
   "source": [
    "for value_col, value_col1 in combinations(value_cols, 2):\n",
    "    data_file = 'multidimCovEducationCovariance-{}-{}'.format(value_col, value_col1)\n",
    "    print(\"python MOT.py --start_epsilon=1 --target_epsilon=1e-3 --iter_gap=1 --epsilon_scale_num=0.99 --epsilon_scale_gap=5 --data_file=%s --max_iter=5000 --cost_type=cov\"%data_file)\n",
    "    print()"
   ]
  },
  {
   "cell_type": "code",
   "execution_count": null,
   "id": "bc96dd9b-0d9e-4ecc-9146-33c751cd16a1",
   "metadata": {},
   "outputs": [],
   "source": [
    "import pickle\n",
    "with open('data/multidimCovHelpfulness.pkl', 'wb') as f:\n",
    "    pickle.dump([[np.array(tmp[0])/2, \n",
    "                  np.array(tmp[1])/2, \n",
    "                  -np.array(tmp[2])], \n",
    "                 [-np.array(tmp1[0])/2, \n",
    "                  -np.array(tmp1[1])/2, \n",
    "                  np.array(tmp1[2])]], f)"
   ]
  },
  {
   "cell_type": "code",
   "execution_count": 22,
   "id": "42128937-02a3-4258-8603-430c2f531457",
   "metadata": {},
   "outputs": [],
   "source": [
    "def transform_data(value):\n",
    "    tmp = [np.array(l).astype(dtype) for l in value.values]\n",
    "    tmp = [l - l.mean() for l in tmp]\n",
    "    tmp = [tmp[0]/2, tmp[1]/2, -tmp[2]]\n",
    "    return tmp"
   ]
  },
  {
   "cell_type": "code",
   "execution_count": 8,
   "id": "e9e3d525-a2ab-4476-a048-bfc8b5df4c95",
   "metadata": {},
   "outputs": [],
   "source": []
  },
  {
   "cell_type": "code",
   "execution_count": null,
   "id": "419a37a3-e4e3-4377-9bf8-a2f51574f090",
   "metadata": {},
   "outputs": [],
   "source": []
  }
 ],
 "metadata": {
  "kernelspec": {
   "display_name": "MOT",
   "language": "python",
   "name": "mot"
  },
  "language_info": {
   "codemirror_mode": {
    "name": "ipython",
    "version": 3
   },
   "file_extension": ".py",
   "mimetype": "text/x-python",
   "name": "python",
   "nbconvert_exporter": "python",
   "pygments_lexer": "ipython3",
   "version": "3.12.3"
  }
 },
 "nbformat": 4,
 "nbformat_minor": 5
}
